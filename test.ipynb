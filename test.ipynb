{
 "cells": [
  {
   "cell_type": "code",
   "execution_count": 1,
   "metadata": {},
   "outputs": [],
   "source": [
    "import whisper\n",
    "model = whisper.load_model(\"tiny\")"
   ]
  },
  {
   "cell_type": "code",
   "execution_count": 2,
   "metadata": {},
   "outputs": [],
   "source": [
    "audio = whisper.load_audio(\"usecase.mp3\")\n",
    "audio = whisper.pad_or_trim(audio)"
   ]
  },
  {
   "cell_type": "code",
   "execution_count": 3,
   "metadata": {},
   "outputs": [],
   "source": [
    "mel = whisper.log_mel_spectrogram(audio, n_mels=model.dims.n_mels).to(model.device)\n"
   ]
  },
  {
   "cell_type": "code",
   "execution_count": 4,
   "metadata": {},
   "outputs": [
    {
     "name": "stdout",
     "output_type": "stream",
     "text": [
      "Detected language: en\n"
     ]
    }
   ],
   "source": [
    "_, probs = model.detect_language(mel)\n",
    "print(f\"Detected language: {max(probs, key=probs.get)}\")"
   ]
  },
  {
   "cell_type": "code",
   "execution_count": 5,
   "metadata": {},
   "outputs": [],
   "source": [
    "options = whisper.DecodingOptions()\n",
    "result = whisper.decode(model, mel, options)"
   ]
  },
  {
   "cell_type": "code",
   "execution_count": 7,
   "metadata": {},
   "outputs": [
    {
     "name": "stdout",
     "output_type": "stream",
     "text": [
      "DecodingResult(audio_features=tensor([[ 0.1473,  0.1054,  0.1052,  ..., -0.0884,  0.0487,  0.0061],\n",
      "        [ 0.2568,  0.8604, -0.1915,  ..., -0.1315, -0.0961,  0.7686],\n",
      "        [ 0.5425,  1.1973,  0.0873,  ...,  0.0200, -1.3271,  1.0898],\n",
      "        ...,\n",
      "        [ 0.6011,  2.1211, -0.3760,  ..., -0.2620,  1.7461, -1.1094],\n",
      "        [ 1.0479, -1.0723,  0.1385,  ..., -0.3315, -0.0432, -0.6895],\n",
      "        [ 0.0729, -0.1362, -1.4277,  ..., -0.0436, -0.5376, -0.1473]],\n",
      "       dtype=torch.float16), language='en', language_probs=None, tokens=[50364, 26574, 24279, 7404, 13, 50430, 50430, 400, 286, 485, 50480, 50480, 24279, 7404, 293, 13476, 13, 50544, 50544, 8266, 12, 10250, 13, 50578, 50578, 509, 1562, 632, 257, 637, 29411, 291, 281, 552, 322, 3233, 30, 50694, 50694, 4019, 485, 50796, 50796, 883, 13, 50846, 50846, 883, 13, 50886, 50886, 1144, 291, 652, 552, 818, 291, 3546, 30, 50944, 50944, 883, 13, 50994, 50994, 883, 13, 51044, 51044, 883, 13, 51094, 51094, 1545, 1315, 309, 24279, 7404, 293, 13476, 498, 291, 500, 380, 528, 281, 1073, 2949, 264, 3086, 3809, 30, 51326, 51326, 1042, 11, 3374, 311, 406, 281, 1223, 341, 13, 51436, 51436, 8239, 13, 51486, 51486, 583, 309, 311, 411, 437, 291, 818, 1605, 6011, 293, 436, 434, 1392, 293, 818, 309, 746, 293, 51686, 51686, 13476, 13, 51736, 51736, 509, 458, 30, 51786, 51786], text=\"Marcus Mumford. And I... Mumford and sons. Mm-hmm. You ever had a spanking you to them on stage? Uh... No. No. Do you make them call you dad? No. No. No. Why name it Mumford and sons if you don't want to evoke the fatherhood? Well, America's not to understand this. Hmm. But it's like what you call family businesses and they're okay and call it something and sons. You know?\", avg_logprob=-0.5252843074661364, no_speech_prob=0.09614183008670807, temperature=0.0, compression_ratio=1.609442060085837)\n"
     ]
    }
   ],
   "source": [
    "print(result)"
   ]
  }
 ],
 "metadata": {
  "kernelspec": {
   "display_name": "env",
   "language": "python",
   "name": "python3"
  },
  "language_info": {
   "codemirror_mode": {
    "name": "ipython",
    "version": 3
   },
   "file_extension": ".py",
   "mimetype": "text/x-python",
   "name": "python",
   "nbconvert_exporter": "python",
   "pygments_lexer": "ipython3",
   "version": "3.10.11"
  }
 },
 "nbformat": 4,
 "nbformat_minor": 2
}
